{
  "nbformat": 4,
  "nbformat_minor": 0,
  "metadata": {
    "colab": {
      "name": "live_demo.ipynb",
      "provenance": [],
      "collapsed_sections": []
    },
    "kernelspec": {
      "name": "python3",
      "display_name": "Python 3"
    },
    "language_info": {
      "name": "python"
    }
  },
  "cells": [
    {
      "cell_type": "code",
      "execution_count": null,
      "metadata": {
        "id": "ezRiV2MY_KOI"
      },
      "outputs": [],
      "source": [
        "import torch\n",
        "import torchvision\n",
        "device = torch.device('cuda')"
      ]
    },
    {
      "cell_type": "code",
      "source": [
        "from torch2trt import TRTModule\n",
        "\n",
        "model_trt = TRTModule()\n",
        "model_trt.load_state_dict(torch.load('best_steering_model_xy_trt.pth')) # well trained road following model\n",
        "\n",
        "model_trt_collision = TRTModule()\n",
        "model_trt_collision.load_state_dict(torch.load('best_model_trt.pth')) # well trained collision avoidance model"
      ],
      "metadata": {
        "id": "bVCdBnJd_MSr"
      },
      "execution_count": null,
      "outputs": []
    },
    {
      "cell_type": "code",
      "source": [
        "import torchvision.transforms as transforms\n",
        "import torch.nn.functional as F\n",
        "import cv2\n",
        "import PIL.Image\n",
        "import numpy as np\n",
        "\n",
        "mean = torch.Tensor([0.485, 0.456, 0.406]).cuda().half()\n",
        "std = torch.Tensor([0.229, 0.224, 0.225]).cuda().half()\n",
        "\n",
        "def preprocess(image):\n",
        "    image = PIL.Image.fromarray(image)\n",
        "    image = transforms.functional.to_tensor(image).to(device).half()\n",
        "    image.sub_(mean[:, None, None]).div_(std[:, None, None])\n",
        "    return image[None, ...]"
      ],
      "metadata": {
        "id": "2orfj2P5_OVY"
      },
      "execution_count": null,
      "outputs": []
    },
    {
      "cell_type": "code",
      "source": [
        "from IPython.display import display\n",
        "import ipywidgets\n",
        "import traitlets\n",
        "from jetbot import Camera, bgr8_to_jpeg\n",
        "\n",
        "camera = Camera.instance(width=224, height=224, fps=10)"
      ],
      "metadata": {
        "id": "QqpR1N3u_RCs"
      },
      "execution_count": null,
      "outputs": []
    },
    {
      "cell_type": "code",
      "source": [
        "image_widget = ipywidgets.Image()\n",
        "\n",
        "traitlets.dlink((camera, 'value'), (image_widget, 'value'), transform=bgr8_to_jpeg)"
      ],
      "metadata": {
        "id": "rEcIOZ0n_Tct"
      },
      "execution_count": null,
      "outputs": []
    },
    {
      "cell_type": "code",
      "source": [
        "from jetbot import Robot\n",
        "\n",
        "robot = Robot()"
      ],
      "metadata": {
        "id": "_SPqtgkB_VTN"
      },
      "execution_count": null,
      "outputs": []
    },
    {
      "cell_type": "code",
      "source": [
        "#도로 주행 setting\n",
        "speed_control_slider = ipywidgets.FloatSlider(min=0.0, max=1.0, step=0.01, description='speed control')\n",
        "steering_gain_slider = ipywidgets.FloatSlider(min=0.0, max=1.0, step=0.01, value=0.04, description='steering gain')\n",
        "steering_dgain_slider = ipywidgets.FloatSlider(min=0.0, max=0.5, step=0.001, value=0.0, description='steering kd')\n",
        "steering_bias_slider = ipywidgets.FloatSlider(min=-0.3, max=0.3, step=0.01, value=0.0, description='steering bias')\n",
        "\n",
        "display(speed_control_slider, steering_gain_slider, steering_dgain_slider, steering_bias_slider)\n",
        "\n",
        "#충돌 회피 setting\n",
        "blocked_slider = ipywidgets.FloatSlider(min=0.0, max=1.0, orientation='horizontal', description='blocked')\n",
        "stopduration_slider= ipywidgets.IntSlider(min=1, max=1000, step=1, value=10, description='time for stop') \n",
        "blocked_threshold= ipywidgets.FloatSlider(min=0, max=1.0, step=0.01, value=0.8, description='blocked threshold')\n",
        "\n",
        "display(image_widget)\n",
        "\n",
        "display(ipywidgets.HBox([blocked_slider, blocked_threshold, stopduration_slider]))"
      ],
      "metadata": {
        "id": "ImQW6yGb_X2T"
      },
      "execution_count": null,
      "outputs": []
    },
    {
      "cell_type": "code",
      "source": [
        "import math, time\n",
        "\n",
        "angle = 0.0\n",
        "angle_last = 0.0\n",
        "count_stops = 0\n",
        "go_on = 1 # 주행 상태\n",
        "stop_time = 10 # 임의의 정지 가능 횟수\n",
        "x = 0.0\n",
        "y = 0.0\n",
        "speed_value = speed_control_slider.value\n",
        "\n",
        "state=False\n",
        "\n",
        "def execute(change):\n",
        "    global angle, angle_last, blocked_slider, robot, count_stops, stop_time, go_on, x, y, blocked_threshold\n",
        "    global speed_value, steer_gain, steer_dgain, steer_bias\n",
        "                \n",
        "    steer_gain = steering_gain_slider.value\n",
        "    steer_dgain = steering_dgain_slider.value\n",
        "    steer_bias = steering_bias_slider.value\n",
        "       \n",
        "    image_preproc = preprocess(change['new']).to(device)\n",
        "     \n",
        "    #충돌 회피 모델 삽입\n",
        "    \n",
        "    prob_blocked = float(F.softmax(model_trt_collision(image_preproc), dim=1).flatten()[0])\n",
        "    \n",
        "    blocked_slider.value = prob_blocked    \n",
        "    stop_time=stopduration_slider.value\n",
        "\n",
        "    \n",
        "    if go_on == 1: #진행상태    \n",
        "        if prob_blocked > blocked_threshold.value: #block 임계치보다 크면       \n",
        "            count_stops += 1\n",
        "            go_on = 2\n",
        "    \n",
        "            robot.backward(0.5)\n",
        "            time.sleep(0.5)\n",
        "\n",
        "        else:\n",
        "            #로드 팔로잉 디텍션 시작\n",
        "            go_on = 1\n",
        "            count_stops = 0\n",
        "            xy = model_trt(image_preproc).detach().float().cpu().numpy().flatten()        \n",
        "            x = xy[0]            \n",
        "            y = (0.5 - xy[1]) / 2.0\n",
        "            speed_value = speed_control_slider.value\n",
        "    else:\n",
        "        count_stops += 1\n",
        "        if count_stops < stop_time: # 멈춘 횟수보다 멈춘시간이 크면,\n",
        "            x = 0.0 # 각 스티어링 휠 값을 0으로 초기화\n",
        "            y = 0.0 \n",
        "            speed_value = 0 # 스피드도 0으로 초기화\n",
        "          \n",
        "            \n",
        "        else:\n",
        "            go_on = 1\n",
        "            count_stops = 0\n",
        "            \n",
        "    \n",
        "    angle = math.atan2(x, y)        \n",
        "    pid = angle * steer_gain + (angle - angle_last) * steer_dgain\n",
        "    steer_val = pid + steer_bias \n",
        "    angle_last = angle\n",
        "    robot.left_motor.value = max(min(speed_value + steer_val, 1.0), 0.0)\n",
        "    robot.right_motor.value = max(min(speed_value - steer_val, 1.0), 0.0) \n",
        "    \n",
        "execute({'new': camera.value})\n",
        "\n",
        "\n",
        "def stop(self):\n",
        "    self.robot.stop()\n",
        "    \n",
        "def yeild(self):\n",
        "    robot.backward(0.1)\n",
        "    time.sleep(0.5)\n",
        "    robot.stop()\n",
        "    robot.left(0.1)\n",
        "    robot.sleep(0.1)\n",
        "    robot.stop()\n",
        "    robot.backward(0.1)\n",
        "    robot.sleep(0.2)\n",
        "    robot.stop()\n",
        "    robot.sleep(0.5)\n",
        "    forward(0.1)\n",
        "    execute({'new': camera.value})\n",
        "    go_backward()\n",
        "\n",
        "def go_forward(self, speed =0.12):\n",
        "    self.robot.forward(speed)\n",
        "\n",
        "def go_backward(self, speed = 0.12):\n",
        "    self.robot.backward(speed)\n",
        "\n",
        "def go_left(self, speed=0.12):\n",
        "    self.robot.left(speed)\n",
        "    \n",
        "def go_right(self, speed=0.12):\n",
        "    self.robot.right(speed)\n",
        "    \n"
      ],
      "metadata": {
        "id": "3XiBfnDT_fpz"
      },
      "execution_count": null,
      "outputs": []
    },
    {
      "cell_type": "code",
      "source": [
        "camera.observe(execute, names='value')"
      ],
      "metadata": {
        "id": "5wzAtgoe_j_b"
      },
      "execution_count": null,
      "outputs": []
    },
    {
      "cell_type": "code",
      "source": [
        "import time\n",
        "\n",
        "camera.unobserve(execute, names='value')\n",
        "\n",
        "time.sleep(0.1)  \n",
        "\n",
        "robot.stop()"
      ],
      "metadata": {
        "id": "VZZgWpfa_nEF"
      },
      "execution_count": null,
      "outputs": []
    }
  ]
}