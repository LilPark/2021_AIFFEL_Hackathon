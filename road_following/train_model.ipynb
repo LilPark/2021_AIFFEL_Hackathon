{
 "cells": [
  {
   "cell_type": "markdown",
   "metadata": {},
   "source": [
    "# Road Following - 학습\n",
    "\n",
    "앞에서 수집한 데이터(이미지, X좌표, Y좌표)로 PyTorch 딥러닝 모델 프레임워크를 이용 to ResNet18 모델을 이용하여 학습."
   ]
  },
  {
   "cell_type": "code",
   "execution_count": 1,
   "metadata": {},
   "outputs": [],
   "source": [
    "import torch\n",
    "import torch.optim as optim\n",
    "import torch.nn.functional as F\n",
    "import torchvision\n",
    "import torchvision.datasets as datasets\n",
    "import torchvision.models as models\n",
    "import torchvision.transforms as transforms\n",
    "import glob\n",
    "import PIL.Image\n",
    "import os\n",
    "import numpy as np"
   ]
  },
  {
   "cell_type": "markdown",
   "metadata": {},
   "source": [
    "### 데이터 준비\n",
    "\n",
    "    - 수집한 데이터 준비"
   ]
  },
  {
   "cell_type": "code",
   "execution_count": 2,
   "metadata": {},
   "outputs": [],
   "source": [
    "!unzip -q road_following_1.zip"
   ]
  },
  {
   "cell_type": "markdown",
   "metadata": {},
   "source": [
    "### 데이터 인스턴트 생성"
   ]
  },
  {
   "cell_type": "code",
   "execution_count": 3,
   "metadata": {},
   "outputs": [],
   "source": [
    "def get_x(path):\n",
    "    \"\"\"Gets the x value from the image filename\"\"\"\n",
    "    return (float(int(path[3:6])) - 50.0) / 50.0\n",
    "\n",
    "def get_y(path):\n",
    "    \"\"\"Gets the y value from the image filename\"\"\"\n",
    "    return (float(int(path[7:10])) - 50.0) / 50.0\n",
    "\n",
    "class XYDataset(torch.utils.data.Dataset):\n",
    "    \n",
    "    def __init__(self, directory, random_hflips=False):\n",
    "        self.directory = directory\n",
    "        self.random_hflips = random_hflips\n",
    "        self.image_paths = glob.glob(os.path.join(self.directory, '*.jpg'))\n",
    "        self.color_jitter = transforms.ColorJitter(0.3, 0.3, 0.3, 0.3)\n",
    "    \n",
    "    def __len__(self):\n",
    "        return len(self.image_paths)\n",
    "    \n",
    "    def __getitem__(self, idx):\n",
    "        image_path = self.image_paths[idx]\n",
    "        \n",
    "        image = PIL.Image.open(image_path)\n",
    "        x = float(get_x(os.path.basename(image_path)))\n",
    "        y = float(get_y(os.path.basename(image_path)))\n",
    "        \n",
    "        if float(np.random.rand(1)) > 0.5:\n",
    "            image = transforms.functional.hflip(image)\n",
    "            x = -x\n",
    "        \n",
    "        image = self.color_jitter(image)\n",
    "        image = transforms.functional.resize(image, (224, 224))\n",
    "        image = transforms.functional.to_tensor(image)\n",
    "        image = image.numpy()[::-1].copy()\n",
    "        image = torch.from_numpy(image)\n",
    "        image = transforms.functional.normalize(image, [0.485, 0.456, 0.406], [0.229, 0.224, 0.225])\n",
    "        \n",
    "        return image, torch.tensor([x, y]).float()\n",
    "    \n",
    "dataset = XYDataset('dataset_xy', random_hflips=False)"
   ]
  },
  {
   "cell_type": "markdown",
   "metadata": {},
   "source": [
    "### 훈련데이터, 테스트 데이터 준비\n",
    "\n",
    "    - 학습데이터 90% 테스트 데이터 10%"
   ]
  },
  {
   "cell_type": "code",
   "execution_count": 4,
   "metadata": {},
   "outputs": [],
   "source": [
    "test_percent = 0.1\n",
    "num_test = int(test_percent * len(dataset))\n",
    "train_dataset, test_dataset = torch.utils.data.random_split(dataset, [len(dataset) - num_test, num_test])"
   ]
  },
  {
   "cell_type": "markdown",
   "metadata": {},
   "source": [
    "### 데이터 로더 생성"
   ]
  },
  {
   "cell_type": "code",
   "execution_count": 5,
   "metadata": {},
   "outputs": [],
   "source": [
    "train_loader = torch.utils.data.DataLoader(\n",
    "    train_dataset,\n",
    "    batch_size=16,\n",
    "    shuffle=True,\n",
    "    num_workers=4\n",
    ")\n",
    "\n",
    "test_loader = torch.utils.data.DataLoader(\n",
    "    test_dataset,\n",
    "    batch_size=16,\n",
    "    shuffle=True,\n",
    "    num_workers=4\n",
    ")"
   ]
  },
  {
   "cell_type": "markdown",
   "metadata": {},
   "source": [
    "### 학습에 사용한 모델 \n",
    "\n",
    "PyTorch TorchVision에서 사용 가능한 ResNet-18 모델을 사용"
   ]
  },
  {
   "cell_type": "code",
   "execution_count": 6,
   "metadata": {},
   "outputs": [],
   "source": [
    "model = models.resnet18(pretrained=True)"
   ]
  },
  {
   "cell_type": "code",
   "execution_count": 7,
   "metadata": {},
   "outputs": [],
   "source": [
    "model.fc = torch.nn.Linear(512, 2)\n",
    "device = torch.device('cuda')\n",
    "model = model.to(device)"
   ]
  },
  {
   "cell_type": "code",
   "execution_count": 8,
   "metadata": {},
   "outputs": [
    {
     "name": "stdout",
     "output_type": "stream",
     "text": [
      "0.793736, 1.915384\n",
      "0.174566, 0.796802\n",
      "0.048120, 0.154529\n",
      "0.027806, 0.058277\n",
      "0.021765, 0.019635\n",
      "0.016414, 0.031048\n",
      "0.016815, 0.020944\n",
      "0.016259, 0.017677\n",
      "0.019669, 0.007992\n",
      "0.014947, 0.011751\n",
      "0.010254, 0.022828\n",
      "0.013735, 0.017060\n",
      "0.011752, 0.027115\n",
      "0.013968, 0.014405\n",
      "0.013165, 0.010810\n",
      "0.008854, 0.008433\n",
      "0.010383, 0.007772\n",
      "0.006215, 0.014039\n",
      "0.025788, 0.018528\n",
      "0.020904, 0.016028\n",
      "0.013412, 0.008811\n",
      "0.010360, 0.013513\n",
      "0.011877, 0.013456\n",
      "0.012206, 0.006378\n",
      "0.012450, 0.021733\n",
      "0.012848, 0.009314\n",
      "0.007086, 0.004878\n",
      "0.006194, 0.005979\n",
      "0.005997, 0.008073\n",
      "0.009269, 0.006867\n",
      "0.006192, 0.008050\n",
      "0.005068, 0.005906\n",
      "0.005428, 0.009348\n",
      "0.005381, 0.007079\n",
      "0.007746, 0.006386\n",
      "0.005702, 0.005866\n",
      "0.005236, 0.008839\n",
      "0.005359, 0.004854\n",
      "0.007948, 0.005127\n",
      "0.003228, 0.005577\n",
      "0.004276, 0.011765\n",
      "0.004223, 0.003639\n",
      "0.002494, 0.005169\n",
      "0.002676, 0.011383\n",
      "0.003225, 0.008020\n",
      "0.002335, 0.005892\n",
      "0.004293, 0.012782\n",
      "0.005754, 0.008614\n",
      "0.005728, 0.004932\n",
      "0.005138, 0.004879\n",
      "0.003842, 0.005541\n",
      "0.003889, 0.006919\n",
      "0.003554, 0.006248\n",
      "0.004211, 0.011929\n",
      "0.002073, 0.004602\n",
      "0.003136, 0.005978\n",
      "0.003891, 0.011359\n",
      "0.007127, 0.010046\n",
      "0.004285, 0.007956\n",
      "0.003229, 0.005344\n",
      "0.003400, 0.004831\n",
      "0.002817, 0.005545\n",
      "0.002172, 0.006609\n",
      "0.002927, 0.006402\n",
      "0.003128, 0.006645\n",
      "0.002534, 0.006695\n",
      "0.002064, 0.004321\n",
      "0.002717, 0.014478\n",
      "0.001325, 0.004948\n",
      "0.001528, 0.004160\n"
     ]
    }
   ],
   "source": [
    "NUM_EPOCHS = 70\n",
    "BEST_MODEL_PATH = 'best_steering_model_xy.pth'\n",
    "best_loss = 1e9\n",
    "\n",
    "optimizer = optim.Adam(model.parameters())\n",
    "\n",
    "for epoch in range(NUM_EPOCHS):\n",
    "    \n",
    "    model.train()\n",
    "    train_loss = 0.0\n",
    "    for images, labels in iter(train_loader):\n",
    "        images = images.to(device)\n",
    "        labels = labels.to(device)\n",
    "        optimizer.zero_grad()\n",
    "        outputs = model(images)\n",
    "        loss = F.mse_loss(outputs, labels)\n",
    "        train_loss += float(loss)\n",
    "        loss.backward()\n",
    "        optimizer.step()\n",
    "    train_loss /= len(train_loader)\n",
    "    \n",
    "    model.eval()\n",
    "    test_loss = 0.0\n",
    "    for images, labels in iter(test_loader):\n",
    "        images = images.to(device)\n",
    "        labels = labels.to(device)\n",
    "        outputs = model(images)\n",
    "        loss = F.mse_loss(outputs, labels)\n",
    "        test_loss += float(loss)\n",
    "    test_loss /= len(test_loader)\n",
    "    \n",
    "    print('%f, %f' % (train_loss, test_loss))\n",
    "    if test_loss < best_loss:\n",
    "        torch.save(model.state_dict(), BEST_MODEL_PATH)\n",
    "        best_loss = test_loss"
   ]
  },
  {
   "cell_type": "markdown",
   "metadata": {},
   "source": [
    "- 학습이 완료되면 best_steering_model_xy.pth 모델 생성"
   ]
  }
 ],
 "metadata": {
  "kernelspec": {
   "display_name": "Python 3",
   "language": "python",
   "name": "python3"
  },
  "language_info": {
   "codemirror_mode": {
    "name": "ipython",
    "version": 3
   },
   "file_extension": ".py",
   "mimetype": "text/x-python",
   "name": "python",
   "nbconvert_exporter": "python",
   "pygments_lexer": "ipython3",
   "version": "3.6.9"
  }
 },
 "nbformat": 4,
 "nbformat_minor": 4
}
